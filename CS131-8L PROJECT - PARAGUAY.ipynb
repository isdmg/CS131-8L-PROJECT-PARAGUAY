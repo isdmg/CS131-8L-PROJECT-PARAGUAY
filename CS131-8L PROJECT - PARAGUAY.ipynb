{
 "cells": [
  {
   "cell_type": "markdown",
   "metadata": {},
   "source": [
    "# CS131-8L BM2 PARAGUAY 1Q2223\n",
    "## GROUP MEMBERS\n",
    "- CORTEZ, MARK MOISES T.\n",
    "- GENETA, DANIEL M.\n",
    "- GIL, CLAIRE FRANCHESKA M.\n",
    "- PEPITO, ALYSSA MAE M.\n",
    "- SOLEÑO, KEZIAH ANTONETTE C.\n",
    "- VELASCO, SADIE CATHERINE E."
   ]
  },
  {
   "cell_type": "code",
   "execution_count": null,
   "metadata": {},
   "outputs": [],
   "source": [
    "# CODE\n",
    "#test "
   ]
  }
 ],
 "metadata": {
  "language_info": {
   "name": "python"
  },
  "orig_nbformat": 4
 },
 "nbformat": 4,
 "nbformat_minor": 2
}
