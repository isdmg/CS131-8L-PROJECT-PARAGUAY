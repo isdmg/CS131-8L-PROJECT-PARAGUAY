{
 "cells": [
  {
   "cell_type": "markdown",
   "metadata": {},
   "source": [
    "# CS131-8L BM2 PARAGUAY 1Q2223\n",
    "## GROUP MEMBERS\n",
    "- CORTEZ, MARK MOISES T.\n",
    "- GENETA, DANIEL M.\n",
    "- GIL, CLAIRE FRANCHESKA M.\n",
    "- PEPITO, ALYSSA MAE M.\n",
    "- SOLEÑO, KEZIAH ANTONETTE C.\n",
    "- VELASCO, SADIE CATHERINE E."
   ]
  },
  {
   "cell_type": "markdown",
   "metadata": {},
   "source": [
    "### Import Libraries"
   ]
  },
  {
   "cell_type": "code",
   "execution_count": null,
   "metadata": {},
   "outputs": [],
   "source": [
    "import pandas as pd\n",
    "import matplotlib.pyplot as plt"
   ]
  },
  {
   "cell_type": "markdown",
   "metadata": {},
   "source": [
    "### Read dataset"
   ]
  },
  {
   "cell_type": "code",
   "execution_count": null,
   "metadata": {},
   "outputs": [],
   "source": [
    "# Read dataset\n",
    "df = pd.read_excel(\"satisfaction_2015.xlsx\")\n",
    "df = df.rename(columns={\"satisfaction_v2\":\"satisfaction\"}) # Rename satisfaction_v2 to satisfaction\n",
    "df"
   ]
  },
  {
   "cell_type": "code",
   "execution_count": null,
   "metadata": {},
   "outputs": [],
   "source": [
    "# Getting summary statistics\n",
    "df.describe()"
   ]
  },
  {
   "cell_type": "markdown",
   "metadata": {},
   "source": [
    "### Objective 1: Ranking of passenger satisfication based on travel class"
   ]
  },
  {
   "cell_type": "code",
   "execution_count": null,
   "metadata": {},
   "outputs": [],
   "source": [
    "obj1_df = df[[\"Class\", \"satisfaction\"]] # Get only the Class and satisfaction column from the original datagrame\n",
    "obj1_grby = obj1_df.groupby([\"Class\", \"satisfaction\"]).size().reset_index(name='Counts') # Group dataframe by class Class and satisfaction\n",
    "obj1_grby"
   ]
  },
  {
   "cell_type": "code",
   "execution_count": null,
   "metadata": {},
   "outputs": [],
   "source": [
    "# Plot obj1_grpy using grouped bar chart\n",
    "obj1_grby.pivot(index=\"Class\", columns=\"satisfaction\", values=\"Counts\").plot(kind=\"bar\")\n",
    "plt.title('Customer satisfaction by flight class')\n",
    "plt.xlabel('Class')\n",
    "plt.ylabel('Counts')\n",
    "plt.legend()\n",
    "plt.show()"
   ]
  }
 ],
 "metadata": {
  "kernelspec": {
   "display_name": "Python 3.9.12 ('datasci')",
   "language": "python",
   "name": "python3"
  },
  "language_info": {
   "codemirror_mode": {
    "name": "ipython",
    "version": 3
   },
   "file_extension": ".py",
   "mimetype": "text/x-python",
   "name": "python",
   "nbconvert_exporter": "python",
   "pygments_lexer": "ipython3",
   "version": "3.9.12"
  },
  "orig_nbformat": 4,
  "vscode": {
   "interpreter": {
    "hash": "837c7ec606491fd0ef912280fc018ebdca83572edbf1796028bb3afef46af57e"
   }
  }
 },
 "nbformat": 4,
 "nbformat_minor": 2
}
