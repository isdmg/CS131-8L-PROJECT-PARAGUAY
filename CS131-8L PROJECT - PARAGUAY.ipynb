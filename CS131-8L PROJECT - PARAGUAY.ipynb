{
 "cells": [
  {
   "cell_type": "markdown",
   "metadata": {},
   "source": [
    "# CS131-8L BM2 PARAGUAY 1Q2223\n",
    "## GROUP MEMBERS\n",
    "- CORTEZ, MARK MOISES T.\n",
    "- GENETA, DANIEL M.\n",
    "- GIL, CLAIRE FRANCHESKA M.\n",
    "- PEPITO, ALYSSA MAE M.\n",
    "- SOLEÑO, KEZIAH ANTONETTE C.\n",
    "- VELASCO, SADIE CATHERINE E."
   ]
  },
  {
   "cell_type": "markdown",
   "metadata": {},
   "source": [
    "### Import Libraries"
   ]
  },
  {
   "cell_type": "code",
   "execution_count": null,
   "metadata": {},
   "outputs": [],
   "source": [
    "import pandas as pd\n",
    "import matplotlib.pyplot as plt\n",
    "import numpy as np\n",
    "import seaborn as sns\n",
    "\n",
    "from sklearn import tree\n",
    "from sklearn.tree import DecisionTreeClassifier\n",
    "from sklearn.tree import plot_tree\n",
    "from sklearn.linear_model import LogisticRegression\n",
    "from sklearn.neighbors import KNeighborsClassifier\n",
    "\n",
    "from sklearn.model_selection import train_test_split \n",
    "from sklearn.metrics import accuracy_score\n",
    "from sklearn.preprocessing import StandardScaler\n",
    "from sklearn.metrics import classification_report, confusion_matrix\n",
    "from sklearn.metrics import ConfusionMatrixDisplay"
   ]
  },
  {
   "cell_type": "markdown",
   "metadata": {},
   "source": [
    "### Data Understanding"
   ]
  },
  {
   "cell_type": "markdown",
   "metadata": {},
   "source": [
    "#### Collection of Initial Data"
   ]
  },
  {
   "cell_type": "code",
   "execution_count": null,
   "metadata": {},
   "outputs": [],
   "source": [
    "# Read dataset\n",
    "df = pd.read_excel(\"satisfaction_2015.xlsx\")\n",
    "df = df.rename(columns={\"satisfaction_v2\":\"satisfaction\"}) # Rename satisfaction_v2 to satisfaction\n",
    "df.head()"
   ]
  },
  {
   "cell_type": "markdown",
   "metadata": {},
   "source": [
    "#### Data Description"
   ]
  },
  {
   "cell_type": "code",
   "execution_count": null,
   "metadata": {},
   "outputs": [],
   "source": [
    "# Getting summary statistics\n",
    "df.describe()"
   ]
  },
  {
   "cell_type": "code",
   "execution_count": null,
   "metadata": {},
   "outputs": [],
   "source": [
    "# Create histograms to show distribution of variables\n",
    "\n",
    "numeric_variables = list(df.select_dtypes(include=['int64', 'float64'])) #select the numeric variables\n",
    "\n",
    "df[numeric_variables].describe().apply(lambda x:round(x,2)).T  #apply describe method\n",
    "\n",
    "histograms = df[numeric_variables].hist(bins =10, \n",
    "                                              xlabelsize=10, \n",
    "                                              ylabelsize=10, \n",
    "                                              grid=False, \n",
    "                                              sharey= True, figsize = (15,15))"
   ]
  },
  {
   "cell_type": "markdown",
   "metadata": {},
   "source": [
    "#### Data Exploration"
   ]
  },
  {
   "cell_type": "markdown",
   "metadata": {},
   "source": [
    "##### Exploring categorical data"
   ]
  },
  {
   "cell_type": "code",
   "execution_count": null,
   "metadata": {},
   "outputs": [],
   "source": [
    "satisfaction_counts = df['satisfaction'].value_counts().rename_axis('satisfaction').reset_index(name='counts')\n",
    "plt.bar(satisfaction_counts['satisfaction'].to_numpy(), satisfaction_counts['counts'].to_numpy())\n",
    "plt.title(\"Number of passengers classified by satisfied column\")\n",
    "plt.xlabel('Satisfaction')\n",
    "plt.ylabel('Counts')\n",
    "plt.show()"
   ]
  },
  {
   "cell_type": "code",
   "execution_count": null,
   "metadata": {},
   "outputs": [],
   "source": [
    "class_satisfaction_grpby = df[[\"Class\", \"satisfaction\"]]\n",
    "class_satisfaction_grpby = class_satisfaction_grpby.groupby([\"Class\", \"satisfaction\"]).size().reset_index(name=\"counts\")\n",
    "\n",
    "business_satisfied = class_satisfaction_grpby.query(\"Class == 'Business' and satisfaction == 'satisfied'\")['counts'].tolist()\n",
    "eco_satisfied = class_satisfaction_grpby.query(\"Class == 'Eco' and satisfaction == 'satisfied'\")['counts'].tolist()\n",
    "eco_plus_satisfied = class_satisfaction_grpby.query(\"Class == 'Eco Plus' and satisfaction == 'satisfied'\")['counts'].tolist()\n",
    "\n",
    "business_unsatisfied = class_satisfaction_grpby.query(\"Class == 'Business' and satisfaction == 'neutral or dissatisfied'\")['counts'].to_list()\n",
    "eco_unsatisfied = class_satisfaction_grpby.query(\"Class == 'Eco' and satisfaction == 'neutral or dissatisfied'\")['counts'].tolist()\n",
    "eco_plus_unsatisfied = class_satisfaction_grpby.query(\"Class == 'Eco Plus' and satisfaction == 'neutral or dissatisfied'\")['counts'].tolist()\n",
    "\n",
    "x = ['Business', 'Eco', 'Eco Plus']\n",
    "y1 = np.array([business_satisfied, eco_satisfied, eco_plus_satisfied]).flatten()\n",
    "y2 = np.array([business_unsatisfied, eco_unsatisfied, eco_plus_unsatisfied]).flatten()\n",
    "\n",
    "# plot bars in stack manner\n",
    "plt.figure(figsize=(8,5))\n",
    "plt.barh(x, y1, color='b')\n",
    "plt.barh(x, y2, left=y1, color='r')\n",
    "plt.xlabel(\"Counts\")\n",
    "plt.ylabel(\"Class\")\n",
    "plt.legend([\"satisfied\", \"neutral or dissatisfied\"], bbox_to_anchor=(1.05, 1.0), loc='upper left')\n",
    "plt.title(\"Flight class with satisfaction overlay\")\n",
    "plt.show()"
   ]
  },
  {
   "cell_type": "code",
   "execution_count": null,
   "metadata": {},
   "outputs": [],
   "source": [
    "business_total = np.add(business_satisfied, business_unsatisfied)\n",
    "business_satis_percent = np.divide(business_satisfied, business_total)\n",
    "business_unsatis_percent = np.divide(business_unsatisfied, business_total)\n",
    "business_satis_percent = np.round(business_satis_percent, 3)\n",
    "business_unsatis_percent = np.round(business_unsatis_percent, 3)\n",
    "\n",
    "eco_total = np.add(eco_satisfied, eco_unsatisfied)\n",
    "eco_satis_percent = np.divide(eco_satisfied, eco_total)\n",
    "eco_unsatis_percent = np.divide(eco_unsatisfied, eco_total)\n",
    "eco_satis_percent = np.round(eco_satis_percent, 3)\n",
    "eco_unsatis_percent = np.round(eco_unsatis_percent, 3)\n",
    "\n",
    "eco_plus_total = np.add(eco_plus_satisfied, eco_plus_unsatisfied)\n",
    "eco_plus_satis_percent = np.divide(eco_plus_satisfied, eco_plus_total)\n",
    "eco_plus_unsatis_percent = np.divide(eco_plus_unsatisfied, eco_plus_total)\n",
    "eco_plus_satis_percent = np.round(eco_plus_satis_percent, 3)\n",
    "eco_plus_unsatis_percent = np.round(eco_plus_unsatis_percent, 3)\n",
    "\n",
    "y1 = np.array([business_satis_percent, eco_satis_percent, eco_plus_satis_percent]).flatten()\n",
    "y2 = np.array([business_unsatis_percent, eco_unsatis_percent, eco_plus_unsatis_percent]).flatten()\n",
    "\n",
    "# plot bars in stack manner\n",
    "plt.figure(figsize=(8,5))\n",
    "plt.barh(x, y1, color='b')\n",
    "plt.barh(x, y2, left=y1, color='r')\n",
    "plt.xlabel(\"Counts\")\n",
    "plt.ylabel(\"Class\")\n",
    "plt.legend([\"satisfied\", \"neutral or dissatisfied\"], bbox_to_anchor=(1.05, 1.0), loc='upper left')\n",
    "plt.title(\"Flight class with satisfaction overlay (normalized)\")\n",
    "plt.show() # Objective 1"
   ]
  },
  {
   "cell_type": "code",
   "execution_count": null,
   "metadata": {},
   "outputs": [],
   "source": [
    "gender_satisfaction_grpby = df[[\"Gender\", \"satisfaction\"]]\n",
    "gender_satisfaction_grpby = gender_satisfaction_grpby.groupby([\"Gender\", \"satisfaction\"]).size().reset_index(name=\"counts\")\n",
    "\n",
    "male_satisfied = gender_satisfaction_grpby.query(\"Gender == 'Male' and satisfaction == 'satisfied'\")['counts'].tolist()\n",
    "female_satisfied = gender_satisfaction_grpby.query(\"Gender == 'Female' and satisfaction == 'satisfied'\")['counts'].tolist()\n",
    "\n",
    "male_unsatisfied = gender_satisfaction_grpby.query(\"Gender == 'Male' and satisfaction == 'neutral or dissatisfied'\")['counts'].to_list()\n",
    "female_unsatisfied = gender_satisfaction_grpby.query(\"Gender == 'Female' and satisfaction == 'neutral or dissatisfied'\")['counts'].tolist()\n",
    "\n",
    "x = ['Male', 'Female']\n",
    "y1 = np.array([male_satisfied, female_satisfied]).flatten()\n",
    "y2 = np.array([male_unsatisfied, female_unsatisfied]).flatten()\n",
    "\n",
    "# plot bars in stack manner\n",
    "plt.figure(figsize=(8,5))\n",
    "plt.barh(x, y1, color='b')\n",
    "plt.barh(x, y2, left=y1, color='r')\n",
    "plt.xlabel(\"Counts\")\n",
    "plt.ylabel(\"Gender\")\n",
    "plt.legend([\"satisfied\", \"neutral or dissatisfied\"], bbox_to_anchor=(1.05, 1.0), loc='upper left')\n",
    "plt.title(\"Gender with satisfaction overlay\")\n",
    "plt.show()"
   ]
  },
  {
   "cell_type": "code",
   "execution_count": null,
   "metadata": {},
   "outputs": [],
   "source": [
    "male_total = np.add(male_satisfied, male_unsatisfied)\n",
    "male_satis_percent = np.divide(male_satisfied, male_total)\n",
    "male_unsatis_percent = np.divide(male_unsatisfied, male_total)\n",
    "male_satis_percent = np.round(male_satis_percent, 3)\n",
    "male_unsatis_percent = np.round(male_unsatis_percent, 3)\n",
    "\n",
    "female_total = np.add(female_satisfied, female_unsatisfied)\n",
    "female_satis_percent = np.divide(female_satisfied, female_total)\n",
    "female_unsatis_percent = np.divide(female_unsatisfied, female_total)\n",
    "female_satis_percent = np.round(female_satis_percent, 3)\n",
    "female_unsatis_percent = np.round(female_unsatis_percent, 3)\n",
    "\n",
    "y1 = np.array([male_satis_percent, female_satis_percent]).flatten()\n",
    "y2 = np.array([male_unsatis_percent, female_unsatis_percent]).flatten()\n",
    "\n",
    "# plot bars in stack manner\n",
    "plt.figure(figsize=(8,5))\n",
    "plt.barh(x, y1, color='b')\n",
    "plt.barh(x, y2, left=y1, color='r')\n",
    "plt.xlabel(\"Counts\")\n",
    "plt.ylabel(\"Gender\")\n",
    "plt.legend([\"satisfied\", \"neutral or dissatisfied\"], bbox_to_anchor=(1.05, 1.0), loc='upper left')\n",
    "plt.title(\"Gender with satisfaction overlay (normalized)\")\n",
    "plt.show()\n"
   ]
  },
  {
   "cell_type": "code",
   "execution_count": null,
   "metadata": {},
   "outputs": [],
   "source": [
    "customer_type_satisfaction_grpby = df[[\"Customer Type\", \"satisfaction\"]]\n",
    "customer_type_satisfaction_grpby = customer_type_satisfaction_grpby.groupby([\"Customer Type\", \"satisfaction\"]).size().reset_index(name=\"counts\")\n",
    "\n",
    "disloyal_satisfied = customer_type_satisfaction_grpby.query(\"`Customer Type` == 'disloyal Customer' and satisfaction == 'satisfied'\")['counts'].tolist()\n",
    "loyal_satisfied = customer_type_satisfaction_grpby.query(\"`Customer Type` == 'Loyal Customer' and satisfaction == 'satisfied'\")['counts'].tolist()\n",
    "\n",
    "disloyal_unsatisfied = customer_type_satisfaction_grpby.query(\"`Customer Type` == 'disloyal Customer' and satisfaction == 'neutral or dissatisfied'\")['counts'].to_list()\n",
    "loyal_unsatisfied = customer_type_satisfaction_grpby.query(\"`Customer Type` == 'Loyal Customer' and satisfaction == 'neutral or dissatisfied'\")['counts'].tolist()\n",
    "\n",
    "x = ['Loyal Customer', 'Disloyal Customer']\n",
    "y1 = np.array([loyal_satisfied, disloyal_satisfied]).flatten()\n",
    "y2 = np.array([loyal_unsatisfied, disloyal_unsatisfied]).flatten()\n",
    "\n",
    "# plot bars in stack manner\n",
    "plt.figure(figsize=(8,5))\n",
    "plt.barh(x, y1, color='b')\n",
    "plt.barh(x, y2, left=y1, color='r')\n",
    "plt.xlabel(\"Counts\")\n",
    "plt.ylabel(\"Customer Type\")\n",
    "plt.legend([\"satisfied\", \"neutral or dissatisfied\"], bbox_to_anchor=(1.05, 1.0), loc='upper left')\n",
    "plt.title(\"Customer type with satisfaction overlay\")\n",
    "plt.show()"
   ]
  },
  {
   "cell_type": "code",
   "execution_count": null,
   "metadata": {},
   "outputs": [],
   "source": [
    "loyal_total = np.add(loyal_satisfied, loyal_unsatisfied)\n",
    "loyal_satis_percent = np.divide(loyal_satisfied, loyal_total)\n",
    "loyal_unsatis_percent = np.divide(loyal_unsatisfied, loyal_total)\n",
    "loyal_satis_percent = np.round(loyal_satis_percent, 3)\n",
    "loyal_unsatis_percent = np.round(loyal_unsatis_percent, 3)\n",
    "\n",
    "disloyal_total = np.add(disloyal_satisfied, disloyal_unsatisfied)\n",
    "disloyal_satis_percent = np.divide(disloyal_satisfied, disloyal_total)\n",
    "disloyal_unsatis_percent = np.divide(disloyal_unsatisfied, disloyal_total)\n",
    "disloyal_satis_percent = np.round(disloyal_satis_percent, 3)\n",
    "disloyal_unsatis_percent = np.round(disloyal_unsatis_percent, 3)\n",
    "\n",
    "y1 = np.array([loyal_satis_percent, disloyal_satis_percent]).flatten()\n",
    "y2 = np.array([loyal_unsatis_percent, disloyal_unsatis_percent]).flatten()\n",
    "\n",
    "# plot bars in stack manner\n",
    "plt.figure(figsize=(8,5))\n",
    "plt.barh(x, y1, color='b')\n",
    "plt.barh(x, y2, left=y1, color='r')\n",
    "plt.xlabel(\"Counts\")\n",
    "plt.ylabel(\"Customer Type\")\n",
    "plt.legend([\"satisfied\", \"neutral or dissatisfied\"], bbox_to_anchor=(1.05, 1.0), loc='upper left')\n",
    "plt.title(\"Customer type with satisfaction overlay (normalized)\")\n",
    "plt.show()"
   ]
  },
  {
   "cell_type": "code",
   "execution_count": null,
   "metadata": {},
   "outputs": [],
   "source": [
    "travel_type_satisfaction_grpby = df[[\"Type of Travel\", \"satisfaction\"]]\n",
    "travel_type_satisfaction_grpby = travel_type_satisfaction_grpby.groupby([\"Type of Travel\", \"satisfaction\"]).size().reset_index(name=\"counts\")\n",
    "\n",
    "personal_travel_satisfied = travel_type_satisfaction_grpby.query(\"`Type of Travel` == 'Personal Travel' and satisfaction == 'satisfied'\")['counts'].tolist()\n",
    "business_travel_satisfied = travel_type_satisfaction_grpby.query(\"`Type of Travel` == 'Business travel' and satisfaction == 'satisfied'\")['counts'].tolist()\n",
    "\n",
    "personal_travel_unsatisfied = travel_type_satisfaction_grpby.query(\"`Type of Travel` == 'Personal Travel' and satisfaction == 'neutral or dissatisfied'\")['counts'].to_list()\n",
    "business_travel_unsatisfied = travel_type_satisfaction_grpby.query(\"`Type of Travel` == 'Business travel' and satisfaction == 'neutral or dissatisfied'\")['counts'].tolist()\n",
    "\n",
    "x = ['Personal Travel', 'Business Travel']\n",
    "y1 = np.array([personal_travel_satisfied, business_travel_satisfied]).flatten()\n",
    "y2 = np.array([personal_travel_unsatisfied, business_travel_unsatisfied]).flatten()\n",
    "\n",
    "# plot bars in stack manner\n",
    "plt.figure(figsize=(8,5))\n",
    "plt.barh(x, y1, color='b')\n",
    "plt.barh(x, y2, left=y1, color='r')\n",
    "plt.xlabel(\"Counts\")\n",
    "plt.ylabel(\"Type of Travel\")\n",
    "plt.legend([\"satisfied\", \"neutral or dissatisfied\"], bbox_to_anchor=(1.05, 1.0), loc='upper left')\n",
    "plt.title(\"Type of travel with satisfaction overlay\")\n",
    "plt.show()"
   ]
  },
  {
   "cell_type": "code",
   "execution_count": null,
   "metadata": {},
   "outputs": [],
   "source": [
    "personal_travel_total = np.add(personal_travel_satisfied, personal_travel_unsatisfied)\n",
    "personal_travel_satis_percent = np.divide(personal_travel_satisfied, personal_travel_total)\n",
    "personal_travel_unsatis_percent = np.divide(personal_travel_unsatisfied, personal_travel_total)\n",
    "personal_travel_satis_percent = np.round(personal_travel_satis_percent, 3)\n",
    "personal_travel_unsatis_percent = np.round(personal_travel_unsatis_percent, 3)\n",
    "\n",
    "business_travel_total = np.add(business_travel_satisfied, business_travel_unsatisfied)\n",
    "business_travel_satis_percent = np.divide(business_travel_satisfied, business_travel_total)\n",
    "business_travel_unsatis_percent = np.divide(business_travel_unsatisfied, business_travel_total)\n",
    "business_travel_satis_percent = np.round(business_travel_satis_percent, 3)\n",
    "business_travel_unsatis_percent = np.round(business_travel_unsatis_percent, 3)\n",
    "\n",
    "y1 = np.array([personal_travel_satis_percent, business_travel_satis_percent]).flatten()\n",
    "y2 = np.array([personal_travel_unsatis_percent, business_travel_unsatis_percent]).flatten()\n",
    "\n",
    "# plot bars in stack manner\n",
    "plt.figure(figsize=(8,5))\n",
    "plt.barh(x, y1, color='b')\n",
    "plt.barh(x, y2, left=y1, color='r')\n",
    "plt.xlabel(\"Counts\")\n",
    "plt.ylabel(\"Customer Type\")\n",
    "plt.legend([\"satisfied\", \"neutral or dissatisfied\"], bbox_to_anchor=(1.05, 1.0), loc='upper left')\n",
    "plt.title(\"Type of travel with satisfaction overlay (normalized)\")\n",
    "plt.show()"
   ]
  },
  {
   "cell_type": "markdown",
   "metadata": {},
   "source": [
    "##### Exploring numerical data"
   ]
  },
  {
   "cell_type": "code",
   "execution_count": null,
   "metadata": {},
   "outputs": [],
   "source": [
    "df_int = df.copy(deep=True)\n",
    "df_int.drop(columns=['id', 'Age', 'Gate location', 'Flight Distance'], axis=1, inplace=True)\n",
    "df_business_int = df.loc[df['Class'] == 'Business']\n",
    "df_business_int.drop(columns=['id', 'Age', 'Gate location', 'Flight Distance'], axis=1, inplace=True)\n",
    "df_eco_int = df.loc[df['Class'] == 'Eco']\n",
    "df_eco_int.drop(columns=['id', 'Age', 'Gate location', 'Flight Distance'], axis=1, inplace=True)\n",
    "df_eco_plus_int = df.loc[df['Class'] == 'Eco Plus']\n",
    "df_eco_plus_int.drop(columns=['id', 'Age', 'Gate location', 'Flight Distance'], axis=1, inplace=True)\n",
    "\n",
    "# Create column named 'satisfaction_int' where 0 = neutral/dissatisfied and 1 = satisfied\n",
    "df_int['satisfaction_int'] = 0\n",
    "df_int['satisfaction_int'].loc[df_int['satisfaction'] == 'satisfied'] = 1\n",
    "\n",
    "df_business_int['satisfaction_int'] = 0\n",
    "df_business_int['satisfaction_int'].loc[df_business_int['satisfaction'] == 'satisfied'] = 1\n",
    "\n",
    "df_eco_int['satisfaction_int'] = 0\n",
    "df_eco_int['satisfaction_int'].loc[df_eco_int['satisfaction'] == 'satisfied'] = 1\n",
    "\n",
    "df_eco_plus_int['satisfaction_int'] = 0\n",
    "df_eco_plus_int['satisfaction_int'].loc[df_eco_plus_int['satisfaction'] == 'satisfied'] = 1"
   ]
  },
  {
   "cell_type": "code",
   "execution_count": null,
   "metadata": {},
   "outputs": [],
   "source": [
    "# Get numeric attributes\n",
    "df_numeric_features = df_int.select_dtypes(include=[np.number])\n",
    "df_business_numeric_features = df_business_int.select_dtypes(include=[np.number])\n",
    "df_eco_numeric_features = df_eco_int.select_dtypes(include=[np.number])\n",
    "df_eco_plus_numeric_features = df_eco_plus_int.select_dtypes(include=[np.number])"
   ]
  },
  {
   "cell_type": "code",
   "execution_count": null,
   "metadata": {},
   "outputs": [],
   "source": [
    "df_correlation = df_numeric_features.corr()\n",
    "print(df_correlation['satisfaction_int'].sort_values(ascending = False), '\\n')"
   ]
  },
  {
   "cell_type": "code",
   "execution_count": null,
   "metadata": {},
   "outputs": [],
   "source": [
    "df_business_correlation = df_business_numeric_features.corr()\n",
    "print(df_business_correlation['satisfaction_int'].sort_values(ascending = False), '\\n')"
   ]
  },
  {
   "cell_type": "code",
   "execution_count": null,
   "metadata": {},
   "outputs": [],
   "source": [
    "df_eco_correlation = df_eco_numeric_features.corr()\n",
    "print(df_eco_correlation['satisfaction_int'].sort_values(ascending = False), '\\n')"
   ]
  },
  {
   "cell_type": "code",
   "execution_count": null,
   "metadata": {},
   "outputs": [],
   "source": [
    "df_eco_plus_correlation = df_eco_plus_numeric_features.corr()\n",
    "print(df_eco_plus_correlation['satisfaction_int'].sort_values(ascending = False), '\\n')"
   ]
  },
  {
   "cell_type": "code",
   "execution_count": null,
   "metadata": {},
   "outputs": [],
   "source": [
    "# Correlation heatmap\n",
    "plt.figure(figsize=(21,21))\n",
    "plt.title('Correlation of numeric features (All flight class)')\n",
    "sns.heatmap(df_correlation, square=True, linewidths=0.8, annot=True, annot_kws={\"size\":10})\n",
    "plt.show()"
   ]
  },
  {
   "cell_type": "code",
   "execution_count": null,
   "metadata": {},
   "outputs": [],
   "source": [
    "# Correlation heatmap\n",
    "plt.figure(figsize=(21,21))\n",
    "plt.title('Correlation of numeric features (Business class)')\n",
    "sns.heatmap(df_business_correlation, square=True, linewidths=0.8, annot=True, annot_kws={\"size\":10})\n",
    "plt.show()"
   ]
  },
  {
   "cell_type": "code",
   "execution_count": null,
   "metadata": {},
   "outputs": [],
   "source": [
    "# Correlation heatmap\n",
    "plt.figure(figsize=(21,21))\n",
    "plt.title('Correlation of numeric features (Eco class)')\n",
    "sns.heatmap(df_eco_correlation, square=True, linewidths=0.8, annot=True, annot_kws={\"size\":10})\n",
    "plt.show()"
   ]
  },
  {
   "cell_type": "code",
   "execution_count": null,
   "metadata": {},
   "outputs": [],
   "source": [
    "# Correlation heatmap\n",
    "plt.figure(figsize=(21,21))\n",
    "plt.title('Correlation of numeric features (Eco Plus class)')\n",
    "sns.heatmap(df_eco_plus_correlation, square=True, linewidths=0.8, annot=True, annot_kws={\"size\":10})\n",
    "plt.show()"
   ]
  },
  {
   "cell_type": "markdown",
   "metadata": {},
   "source": [
    "#### Data Quality Verification"
   ]
  },
  {
   "cell_type": "code",
   "execution_count": null,
   "metadata": {},
   "outputs": [],
   "source": [
    "# Prints dataframe information\n",
    "df.info()"
   ]
  },
  {
   "cell_type": "code",
   "execution_count": null,
   "metadata": {},
   "outputs": [],
   "source": [
    "# Getting sum of null values in the dataframe\n",
    "df.isna().sum()"
   ]
  },
  {
   "cell_type": "markdown",
   "metadata": {},
   "source": [
    "### Data Preparation"
   ]
  },
  {
   "cell_type": "markdown",
   "metadata": {},
   "source": [
    "#### Data Selection"
   ]
  },
  {
   "cell_type": "code",
   "execution_count": null,
   "metadata": {},
   "outputs": [],
   "source": [
    "# Remove ba natin yung Customer Type, Type of Travel, and Flight Distance?\n",
    "# Remove unneeded fields (i.e., id, gender, customer type, age, type of travel, flight distance, gate location)\n",
    "df.drop(columns=['id', 'Gender', 'Age', 'Gate location'], axis=1, inplace=True)\n",
    "df"
   ]
  },
  {
   "cell_type": "markdown",
   "metadata": {},
   "source": [
    "#### Data Cleaning"
   ]
  },
  {
   "cell_type": "code",
   "execution_count": null,
   "metadata": {},
   "outputs": [],
   "source": [
    "df.dropna(inplace=True)\n",
    "df.isna().sum()"
   ]
  },
  {
   "cell_type": "code",
   "execution_count": null,
   "metadata": {},
   "outputs": [],
   "source": [
    "df['satisfaction'] = df.pop('satisfaction')\n",
    "df"
   ]
  },
  {
   "cell_type": "markdown",
   "metadata": {},
   "source": [
    "### Modeling"
   ]
  },
  {
   "cell_type": "code",
   "execution_count": null,
   "metadata": {},
   "outputs": [],
   "source": [
    "features = df.columns.tolist()\n",
    "features = features[:-1]\n",
    "features\n",
    "\n",
    "X = df[features]\n",
    "y = df['satisfaction']\n",
    "\n",
    "x_encoded = pd.get_dummies(X, drop_first=True)"
   ]
  },
  {
   "cell_type": "markdown",
   "metadata": {},
   "source": [
    "#### Decision Tree"
   ]
  },
  {
   "cell_type": "code",
   "execution_count": null,
   "metadata": {},
   "outputs": [],
   "source": [
    "X_train, X_test, y_train, y_test = train_test_split(x_encoded, y, test_size=0.3, stratify=y)\n",
    "dtree = DecisionTreeClassifier()\n",
    "dtree.fit(X_train, y_train)\n",
    "\n",
    "dtree = DecisionTreeClassifier(max_depth=2)\n",
    "dtree.fit(X_train, y_train)\n",
    "y_pred = dtree.predict(X_test)\n",
    "\n",
    "print(confusion_matrix(y_test, y_pred))\n",
    "print(classification_report(y_test, y_pred))"
   ]
  },
  {
   "cell_type": "code",
   "execution_count": null,
   "metadata": {},
   "outputs": [],
   "source": [
    "fig = plt.figure(figsize=((25,20)))\n",
    "plot_tree(dtree,\n",
    "            feature_names = x_encoded.columns,\n",
    "            class_names=y, \n",
    "            impurity=False,\n",
    "            proportion=True,\n",
    "            filled=True)"
   ]
  },
  {
   "cell_type": "code",
   "execution_count": null,
   "metadata": {},
   "outputs": [],
   "source": [
    "cm = confusion_matrix(y_test, y_pred, labels=dtree.classes_)\n",
    "disp = ConfusionMatrixDisplay(confusion_matrix=cm, display_labels=dtree.classes_)\n",
    "disp.plot(cmap=\"Blues\", values_format='')\n",
    "disp.ax_.set_title(\"Confusion matrix (Decision Tree model)\")\n",
    "disp.figure_.set_figheight(7)\n",
    "disp.figure_.set_figwidth(7)\n",
    "plt.show()"
   ]
  },
  {
   "cell_type": "markdown",
   "metadata": {},
   "source": [
    "#### Logistic regression"
   ]
  },
  {
   "cell_type": "code",
   "execution_count": null,
   "metadata": {},
   "outputs": [],
   "source": [
    "X_train, X_test, y_train, y_test = train_test_split(x_encoded, y, test_size=0.3, stratify=y)\n",
    "\n",
    "lr = LogisticRegression()\n",
    "lr.fit(X_train, y_train)\n",
    "\n",
    "y_pred = lr.predict(X_test)\n",
    "print(confusion_matrix(y_test, y_pred))\n",
    "print(classification_report(y_test, y_pred))"
   ]
  },
  {
   "cell_type": "code",
   "execution_count": null,
   "metadata": {},
   "outputs": [],
   "source": [
    "cm = confusion_matrix(y_test, y_pred, labels=lr.classes_)\n",
    "disp = ConfusionMatrixDisplay(confusion_matrix=cm, display_labels=lr.classes_)\n",
    "disp.plot(cmap=\"Blues\", values_format='')\n",
    "disp.ax_.set_title(\"Confusion matrix (Logistic Regression model)\")\n",
    "disp.figure_.set_figheight(7)\n",
    "disp.figure_.set_figwidth(7)\n",
    "plt.show()"
   ]
  },
  {
   "cell_type": "markdown",
   "metadata": {},
   "source": [
    "#### KNN"
   ]
  },
  {
   "cell_type": "code",
   "execution_count": null,
   "metadata": {},
   "outputs": [],
   "source": [
    "X_train, X_test, y_train, y_test = train_test_split(x_encoded, y, test_size=0.3, stratify=y)\n",
    "\n",
    "scaler = StandardScaler()\n",
    "scaler.fit(X_train)\n",
    "\n",
    "X_train = scaler.transform(X_train)\n",
    "X_test = scaler.transform(X_test)\n",
    "\n",
    "knn = KNeighborsClassifier(n_neighbors=2)\n",
    "knn.fit(X_train, y_train)\n",
    "y_pred = knn.predict(X_test)\n",
    "\n",
    "print(confusion_matrix(y_test, y_pred))\n",
    "print(classification_report(y_test, y_pred))"
   ]
  },
  {
   "cell_type": "code",
   "execution_count": null,
   "metadata": {},
   "outputs": [],
   "source": [
    "cm = confusion_matrix(y_test, y_pred, labels=knn.classes_)\n",
    "disp = ConfusionMatrixDisplay(confusion_matrix=cm, display_labels=knn.classes_)\n",
    "disp.plot(cmap=\"Blues\", values_format='')\n",
    "disp.ax_.set_title(\"Confusion matrix (K-Nearest Neighbor model)\")\n",
    "disp.figure_.set_figheight(7)\n",
    "disp.figure_.set_figwidth(7)\n",
    "plt.show()"
   ]
  }
 ],
 "metadata": {
  "kernelspec": {
   "display_name": "Python 3.9.12 ('datasci')",
   "language": "python",
   "name": "python3"
  },
  "language_info": {
   "codemirror_mode": {
    "name": "ipython",
    "version": 3
   },
   "file_extension": ".py",
   "mimetype": "text/x-python",
   "name": "python",
   "nbconvert_exporter": "python",
   "pygments_lexer": "ipython3",
   "version": "3.9.12"
  },
  "orig_nbformat": 4,
  "vscode": {
   "interpreter": {
    "hash": "837c7ec606491fd0ef912280fc018ebdca83572edbf1796028bb3afef46af57e"
   }
  }
 },
 "nbformat": 4,
 "nbformat_minor": 2
}
